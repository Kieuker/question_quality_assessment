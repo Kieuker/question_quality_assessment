{
 "cells": [
  {
   "cell_type": "code",
   "execution_count": 1,
   "id": "4761b519-2830-4fc1-9c68-5557bbafe02c",
   "metadata": {},
   "outputs": [],
   "source": [
    "import numpy as np\n",
    "import pandas as pd\n",
    "import matplotlib.pyplot as plt\n",
    "import seaborn as sns\n",
    "from sklearn.linear_model import LinearRegression"
   ]
  },
  {
   "cell_type": "markdown",
   "id": "fe780422-531c-4142-9f10-43fb74451ba5",
   "metadata": {},
   "source": [
    "# Code01 Essentials(from previous research)"
   ]
  },
  {
   "cell_type": "markdown",
   "id": "e4079bd1-0434-494b-b7b5-c608300ab5f5",
   "metadata": {},
   "source": [
    "### Evauation Function"
   ]
  },
  {
   "cell_type": "code",
   "execution_count": 2,
   "id": "fc8147c9-ccb0-4bfb-93b9-7c3ac1f4a660",
   "metadata": {},
   "outputs": [],
   "source": [
    "# evaluation function (code from https://competitions.codalab.org/forums/22145/4564/)\n",
    "def evaluate(truth, submission):\n",
    "    # extract ranking\n",
    "    left = list(truth.left)\n",
    "    right = list(truth.right)\n",
    "#     if len(left) != len(right):\n",
    "#     message = 'left and right lengths are not the same'\n",
    "#     sys.exit(message)\n",
    "\n",
    "    submission_left = []\n",
    "    submission_right = []\n",
    "    submission_preference = []\n",
    "    for idx in range(len(left)):\n",
    "        submission_left.append(left[idx])\n",
    "        submission_right.append(right[idx])\n",
    "        ranking_left = submission[submission.QuestionId==left[idx]].ranking.values[0]\n",
    "        ranking_right = submission[submission.QuestionId==right[idx]].ranking.values[0]\n",
    "        preference = 1 if ranking_left < ranking_right else 2\n",
    "        submission_preference.append(preference)\n",
    "    # print(submission_preference)\n",
    "    return submission_preference"
   ]
  },
  {
   "cell_type": "markdown",
   "id": "79068972-625b-478d-861a-37136746da5d",
   "metadata": {},
   "source": [
    "### Get Datas"
   ]
  },
  {
   "cell_type": "code",
   "execution_count": 3,
   "id": "52621533-8102-4b3c-a359-cebc6cefd87f",
   "metadata": {},
   "outputs": [],
   "source": [
    "# dataframes\n",
    "data = pd.read_csv('data/train_data/train_task_3_4.csv')\n",
    "eval_vali = pd.read_csv('data/test_data/quality_response_remapped_public.csv')\n",
    "eval_test = pd.read_csv('data/test_data/quality_response_remapped_private.csv')\n",
    "\n",
    "# submission template\n",
    "template = pd.read_csv('submission/template.csv')\n",
    "\n",
    "# metadatas\n",
    "student_metadata = pd.read_csv('data/metadata/student_metadata_task_3_4.csv')\n",
    "subject_metadata = pd.read_csv('data/metadata/subject_metadata.csv')\n",
    "answer_metadata = pd.read_csv('data/metadata/answer_metadata_task_3_4.csv')\n",
    "question_metadata = pd.read_csv('data/metadata/question_metadata_task_3_4.csv')"
   ]
  },
  {
   "cell_type": "markdown",
   "id": "91055387-b900-465f-98eb-d08cbe419818",
   "metadata": {},
   "source": [
    "### Data Preprocessing"
   ]
  },
  {
   "cell_type": "code",
   "execution_count": 4,
   "id": "adbd1505-582f-437d-b463-b160aa69ed89",
   "metadata": {},
   "outputs": [],
   "source": [
    "def preprocess_mydata(data, question_metadata):\n",
    "    # 1. Subject Grouping - SubId\n",
    "    QMD = question_metadata.copy()\n",
    "    QMD['SubId'] = QMD.SubjectId.apply(lambda x: x[1:-2].split(', ')[1])\n",
    "    QMD.drop(columns=['SubjectId'], inplace=True)\n",
    "\n",
    "    # 2. Position of Correct Answer - CorrectAnswer\n",
    "    DT = data.copy()\n",
    "    DT.drop(columns=['UserId', 'AnswerId','IsCorrect', 'AnswerValue'], inplace=True)\n",
    "    DT.drop_duplicates(['QuestionId'], inplace=True, ignore_index=True)\n",
    "\n",
    "    # 3. Ratio of Correct Resopnse - CRRatio\n",
    "    DT2 = data.copy()\n",
    "    DT2.drop(columns=['UserId', 'AnswerId', 'CorrectAnswer', 'AnswerValue'], inplace=True)\n",
    "    CRR = DT2.groupby('QuestionId').mean().rename(columns={'IsCorrect':'CRRatio'})\n",
    "\n",
    "    # merge to Submission Template \n",
    "    mydata = pd.read_csv('submission/template.csv')\n",
    "    mydata = pd.merge(left = mydata, right = QMD, how = 'inner', on = 'QuestionId')\n",
    "    mydata = pd.merge(mydata, DT, 'inner', 'QuestionId')\n",
    "    mydata = pd.merge(mydata, CRR, 'inner', 'QuestionId')\n",
    "    \n",
    "    return mydata\n",
    "\n",
    "mydata = preprocess_mydata(data, question_metadata)"
   ]
  },
  {
   "cell_type": "markdown",
   "id": "91f7bfdf-ff49-463f-8913-88620d58b281",
   "metadata": {},
   "source": [
    "### Preperation for Fitting"
   ]
  },
  {
   "cell_type": "code",
   "execution_count": 5,
   "id": "1b96dc49-8d62-4ced-923a-1ecd6ddf433f",
   "metadata": {},
   "outputs": [],
   "source": [
    "# assign random ranking between 0 and 1 then sort by validation data\n",
    "def assign_random_ranking(rand_seed, mydata, eval_vali):\n",
    "    # get every quesion ids used in validation set\n",
    "    qids_of_vali = eval_vali.left.tolist() + eval_vali.right.tolist()\n",
    "    qids_of_vali.sort()\n",
    "\n",
    "    # assign random ranking to every questions\n",
    "    np.random.seed(rand_seed)\n",
    "    mydata.ranking = np.random.rand(len(mydata))\n",
    "\n",
    "    # set the sole decision(Final) from five evaluator decisions\n",
    "    eVali = eval_vali.copy()\n",
    "    eTest = eval_test.copy()\n",
    "    eVali['Final'] = eVali.filter(regex='^T', axis = 1).mean(axis=1).apply(lambda x: 2 if x > 1.5 else 1)\n",
    "    eTest['Final'] = eTest.filter(regex='^T', axis = 1).mean(axis=1).apply(lambda x: 2 if x > 1.5 else 1)\n",
    "\n",
    "    # swap ranking values to based on Final decision\n",
    "    for row in eVali.itertuples():\n",
    "        if row.Final == 1:\n",
    "            if mydata[mydata.QuestionId == row.left].ranking.values[0] < mydata[mydata.QuestionId == row.right].ranking.values[0]:\n",
    "                tmp = mydata[mydata.QuestionId == row.left].ranking.values[0]\n",
    "                mydata[mydata.QuestionId == row.left].ranking.values[0]= mydata[mydata.QuestionId == row.right].ranking.values[0]\n",
    "                mydata[mydata.QuestionId == row.right].ranking.values[0]= tmp\n",
    "        elif row.Final == 2:\n",
    "            if mydata[mydata.QuestionId == row.left].ranking.values[0]> mydata[mydata.QuestionId == row.right].ranking.values[0]:\n",
    "                tmp = mydata[mydata.QuestionId == row.left].ranking.values[0]\n",
    "                mydata[mydata.QuestionId == row.left].ranking.values[0]= mydata[mydata.QuestionId == row.right].ranking.values[0]\n",
    "                mydata[mydata.QuestionId == row.right].ranking.values[0]= tmp\n",
    "    return eVali, eTest\n",
    "\n",
    "eVali, eTest = assign_random_ranking(20182453, mydata, eval_vali)"
   ]
  },
  {
   "cell_type": "markdown",
   "id": "cd8f8355-1935-4cae-aebf-bb9e9d87dc0d",
   "metadata": {},
   "source": [
    "### Fitting"
   ]
  },
  {
   "cell_type": "code",
   "execution_count": 6,
   "id": "a2d4c9a7-8743-4726-9d10-7d7c0c23afbd",
   "metadata": {},
   "outputs": [],
   "source": [
    "# separate mydata(1: data in validation set, 2: data not in validataion set)\n",
    "def separate_mydata(mydata, eval_vali):\n",
    "    # get every quesion ids used in validation set\n",
    "    qids_of_vali = eval_vali.left.tolist() + eval_vali.right.tolist()\n",
    "    qids_of_vali.sort()\n",
    "\n",
    "    # seperate mydata(stanard - if question is in validation set)\n",
    "    mydata_in_vali = mydata[mydata.QuestionId.isin(qids_of_vali)].copy()\n",
    "    mydata_not_vali = mydata[~mydata.QuestionId.isin(qids_of_vali)].copy()\n",
    "    \n",
    "    return mydata_in_vali, mydata_not_vali\n",
    "\n",
    "mydata_in_vali, mydata_not_vali = separate_mydata(mydata, eval_vali)"
   ]
  },
  {
   "cell_type": "code",
   "execution_count": 7,
   "id": "a78a4f65-4976-4d1c-a2cf-f866fc51e6f3",
   "metadata": {},
   "outputs": [
    {
     "data": {
      "text/plain": [
       "(array([0.70814095]), array([[-0.002403  ,  0.02228532, -0.43510357]]))"
      ]
     },
     "execution_count": 7,
     "metadata": {},
     "output_type": "execute_result"
    }
   ],
   "source": [
    "# # fit linear regression model(in validation set group)\n",
    "y = mydata_in_vali[['ranking']]\n",
    "X = mydata_in_vali[['SubId', 'CorrectAnswer', 'CRRatio']]\n",
    "lin_reg = LinearRegression()\n",
    "lin_reg.fit(X, y)\n",
    "lin_reg.intercept_, lin_reg.coef_"
   ]
  },
  {
   "cell_type": "code",
   "execution_count": 8,
   "id": "3b635624-c595-44f6-a3a8-673cceb95f61",
   "metadata": {},
   "outputs": [],
   "source": [
    "# # predict ranking by fit model to non-validation data\n",
    "X2 = mydata_not_vali[['SubId', 'CorrectAnswer', 'CRRatio']]\n",
    "mydata_not_vali['ranking'] = lin_reg.predict(X2)\n",
    "\n",
    "mydata.update(mydata_not_vali)"
   ]
  },
  {
   "cell_type": "code",
   "execution_count": 9,
   "id": "dbecce2e-890d-46c8-a7cf-c8a66b2209fb",
   "metadata": {},
   "outputs": [],
   "source": [
    "# # export result\n",
    "# mydata[['QuestionId', 'ranking']].to_csv('submission/Result01.csv', index=False)"
   ]
  },
  {
   "cell_type": "markdown",
   "id": "3f611764-f630-4810-8205-b7d5f5618de6",
   "metadata": {},
   "source": [
    "### Evaluation"
   ]
  },
  {
   "cell_type": "code",
   "execution_count": 10,
   "id": "83ca7cae-9527-4cc0-ae4c-c4868e9f32a0",
   "metadata": {},
   "outputs": [
    {
     "data": {
      "text/plain": [
       "0.4"
      ]
     },
     "execution_count": 10,
     "metadata": {},
     "output_type": "execute_result"
    }
   ],
   "source": [
    "estimateV = evaluate(eval_test, mydata)\n",
    "trueV = eTest['Final'].tolist()\n",
    "\n",
    "ev = np.array(estimateV)\n",
    "tv = np.array(trueV)\n",
    "\n",
    "samev = (ev == tv)\n",
    "samev.sum() / samev.size"
   ]
  },
  {
   "cell_type": "markdown",
   "id": "ddfad35d-ab2c-4215-8431-85d908518c2c",
   "metadata": {},
   "source": [
    "# Code02 - Model Improvement"
   ]
  },
  {
   "cell_type": "markdown",
   "id": "6840440b-c4b6-430c-9990-a51ffba0caa0",
   "metadata": {},
   "source": [
    "## 1. Hypothesis test for Former model"
   ]
  },
  {
   "cell_type": "code",
   "execution_count": 11,
   "id": "e7ed5e17-5273-4916-bb5a-9d200e8a8b97",
   "metadata": {},
   "outputs": [],
   "source": [
    "import statsmodels.api as sm\n",
    "import statsmodels.formula.api as smf"
   ]
  },
  {
   "cell_type": "code",
   "execution_count": 12,
   "id": "d6102da9-9c1a-4092-af57-1c22341660a6",
   "metadata": {},
   "outputs": [],
   "source": [
    "# Init mydata\n",
    "mydata = preprocess_mydata(data, question_metadata)\n",
    "eVali, eTest = assign_random_ranking(20182453, mydata, eval_vali)\n",
    "mydata_in_vali, mydata_not_vali = separate_mydata(mydata, eval_vali)"
   ]
  },
  {
   "cell_type": "code",
   "execution_count": 13,
   "id": "56d2002b-4ffc-481b-986c-782cadc9e016",
   "metadata": {},
   "outputs": [
    {
     "data": {
      "text/html": [
       "<table class=\"simpletable\">\n",
       "<caption>OLS Regression Results</caption>\n",
       "<tr>\n",
       "  <th>Dep. Variable:</th>         <td>ranking</td>     <th>  R-squared:         </th> <td>   0.082</td>\n",
       "</tr>\n",
       "<tr>\n",
       "  <th>Model:</th>                   <td>OLS</td>       <th>  Adj. R-squared:    </th> <td>  -0.002</td>\n",
       "</tr>\n",
       "<tr>\n",
       "  <th>Method:</th>             <td>Least Squares</td>  <th>  F-statistic:       </th> <td>  0.9786</td>\n",
       "</tr>\n",
       "<tr>\n",
       "  <th>Date:</th>             <td>Sun, 18 Jun 2023</td> <th>  Prob (F-statistic):</th>  <td> 0.429</td> \n",
       "</tr>\n",
       "<tr>\n",
       "  <th>Time:</th>                 <td>23:26:56</td>     <th>  Log-Likelihood:    </th> <td> -7.6962</td>\n",
       "</tr>\n",
       "<tr>\n",
       "  <th>No. Observations:</th>      <td>    49</td>      <th>  AIC:               </th> <td>   25.39</td>\n",
       "</tr>\n",
       "<tr>\n",
       "  <th>Df Residuals:</th>          <td>    44</td>      <th>  BIC:               </th> <td>   34.85</td>\n",
       "</tr>\n",
       "<tr>\n",
       "  <th>Df Model:</th>              <td>     4</td>      <th>                     </th>     <td> </td>   \n",
       "</tr>\n",
       "<tr>\n",
       "  <th>Covariance Type:</th>      <td>nonrobust</td>    <th>                     </th>     <td> </td>   \n",
       "</tr>\n",
       "</table>\n",
       "<table class=\"simpletable\">\n",
       "<tr>\n",
       "        <td></td>           <th>coef</th>     <th>std err</th>      <th>t</th>      <th>P>|t|</th>  <th>[0.025</th>    <th>0.975]</th>  \n",
       "</tr>\n",
       "<tr>\n",
       "  <th>Intercept</th>     <td>    0.6336</td> <td>    0.210</td> <td>    3.012</td> <td> 0.004</td> <td>    0.210</td> <td>    1.057</td>\n",
       "</tr>\n",
       "<tr>\n",
       "  <th>SubId[T.49]</th>   <td>   -0.0544</td> <td>    0.163</td> <td>   -0.334</td> <td> 0.740</td> <td>   -0.383</td> <td>    0.274</td>\n",
       "</tr>\n",
       "<tr>\n",
       "  <th>SubId[T.71]</th>   <td>   -0.0941</td> <td>    0.090</td> <td>   -1.047</td> <td> 0.301</td> <td>   -0.275</td> <td>    0.087</td>\n",
       "</tr>\n",
       "<tr>\n",
       "  <th>CorrectAnswer</th> <td>    0.0222</td> <td>    0.043</td> <td>    0.522</td> <td> 0.604</td> <td>   -0.063</td> <td>    0.108</td>\n",
       "</tr>\n",
       "<tr>\n",
       "  <th>CRRatio</th>       <td>   -0.4368</td> <td>    0.304</td> <td>   -1.436</td> <td> 0.158</td> <td>   -1.050</td> <td>    0.176</td>\n",
       "</tr>\n",
       "</table>\n",
       "<table class=\"simpletable\">\n",
       "<tr>\n",
       "  <th>Omnibus:</th>       <td> 6.468</td> <th>  Durbin-Watson:     </th> <td>   1.800</td>\n",
       "</tr>\n",
       "<tr>\n",
       "  <th>Prob(Omnibus):</th> <td> 0.039</td> <th>  Jarque-Bera (JB):  </th> <td>   2.333</td>\n",
       "</tr>\n",
       "<tr>\n",
       "  <th>Skew:</th>          <td> 0.092</td> <th>  Prob(JB):          </th> <td>   0.311</td>\n",
       "</tr>\n",
       "<tr>\n",
       "  <th>Kurtosis:</th>      <td> 1.947</td> <th>  Cond. No.          </th> <td>    22.8</td>\n",
       "</tr>\n",
       "</table><br/><br/>Notes:<br/>[1] Standard Errors assume that the covariance matrix of the errors is correctly specified."
      ],
      "text/plain": [
       "<class 'statsmodels.iolib.summary.Summary'>\n",
       "\"\"\"\n",
       "                            OLS Regression Results                            \n",
       "==============================================================================\n",
       "Dep. Variable:                ranking   R-squared:                       0.082\n",
       "Model:                            OLS   Adj. R-squared:                 -0.002\n",
       "Method:                 Least Squares   F-statistic:                    0.9786\n",
       "Date:                Sun, 18 Jun 2023   Prob (F-statistic):              0.429\n",
       "Time:                        23:26:56   Log-Likelihood:                -7.6962\n",
       "No. Observations:                  49   AIC:                             25.39\n",
       "Df Residuals:                      44   BIC:                             34.85\n",
       "Df Model:                           4                                         \n",
       "Covariance Type:            nonrobust                                         \n",
       "=================================================================================\n",
       "                    coef    std err          t      P>|t|      [0.025      0.975]\n",
       "---------------------------------------------------------------------------------\n",
       "Intercept         0.6336      0.210      3.012      0.004       0.210       1.057\n",
       "SubId[T.49]      -0.0544      0.163     -0.334      0.740      -0.383       0.274\n",
       "SubId[T.71]      -0.0941      0.090     -1.047      0.301      -0.275       0.087\n",
       "CorrectAnswer     0.0222      0.043      0.522      0.604      -0.063       0.108\n",
       "CRRatio          -0.4368      0.304     -1.436      0.158      -1.050       0.176\n",
       "==============================================================================\n",
       "Omnibus:                        6.468   Durbin-Watson:                   1.800\n",
       "Prob(Omnibus):                  0.039   Jarque-Bera (JB):                2.333\n",
       "Skew:                           0.092   Prob(JB):                        0.311\n",
       "Kurtosis:                       1.947   Cond. No.                         22.8\n",
       "==============================================================================\n",
       "\n",
       "Notes:\n",
       "[1] Standard Errors assume that the covariance matrix of the errors is correctly specified.\n",
       "\"\"\""
      ]
     },
     "execution_count": 13,
     "metadata": {},
     "output_type": "execute_result"
    }
   ],
   "source": [
    "# fit model\n",
    "lm_former = smf.ols(formula='ranking ~ SubId+CorrectAnswer+CRRatio', data=mydata_in_vali)\n",
    "lm_former_fit = lm_former.fit()\n",
    "lm_former_fit.summary()"
   ]
  },
  {
   "cell_type": "code",
   "execution_count": 14,
   "id": "6a24c62d-7032-4ba8-b97b-4b0612dbda88",
   "metadata": {},
   "outputs": [],
   "source": [
    "# predict\n",
    "mydata_not_vali['ranking'] = lm_former_fit.predict(mydata_not_vali)\n",
    "mydata.update(mydata_not_vali)"
   ]
  },
  {
   "cell_type": "code",
   "execution_count": 15,
   "id": "26cfe07b-f550-48b6-9d38-cceaae3ef749",
   "metadata": {},
   "outputs": [
    {
     "data": {
      "text/plain": [
       "0.4"
      ]
     },
     "execution_count": 15,
     "metadata": {},
     "output_type": "execute_result"
    }
   ],
   "source": [
    "estimateV = evaluate(eval_test, mydata)\n",
    "trueV = eTest['Final'].tolist()\n",
    "\n",
    "ev = np.array(estimateV)\n",
    "tv = np.array(trueV)\n",
    "\n",
    "samev = (ev == tv)\n",
    "samev.sum() / samev.size"
   ]
  },
  {
   "cell_type": "markdown",
   "id": "d5224ace-0482-42a3-b342-eded9e1536ac",
   "metadata": {},
   "source": [
    "## 2. Tweak Predictors(SubId, CorrectAnswer)"
   ]
  },
  {
   "cell_type": "code",
   "execution_count": 16,
   "id": "b0b43e6f-74a0-4172-a9fa-38fac5dfcb08",
   "metadata": {},
   "outputs": [],
   "source": [
    "# Init mydata\n",
    "mydata = preprocess_mydata(data, question_metadata)"
   ]
  },
  {
   "cell_type": "code",
   "execution_count": 17,
   "id": "7fc41f87-708f-4920-be75-b44abcb2c6f5",
   "metadata": {},
   "outputs": [
    {
     "data": {
      "text/html": [
       "<div>\n",
       "<style scoped>\n",
       "    .dataframe tbody tr th:only-of-type {\n",
       "        vertical-align: middle;\n",
       "    }\n",
       "\n",
       "    .dataframe tbody tr th {\n",
       "        vertical-align: top;\n",
       "    }\n",
       "\n",
       "    .dataframe thead th {\n",
       "        text-align: right;\n",
       "    }\n",
       "</style>\n",
       "<table border=\"1\" class=\"dataframe\">\n",
       "  <thead>\n",
       "    <tr style=\"text-align: right;\">\n",
       "      <th></th>\n",
       "      <th>QuestionId</th>\n",
       "      <th>ranking</th>\n",
       "      <th>CRRatio</th>\n",
       "      <th>Subj_32</th>\n",
       "      <th>Subj_49</th>\n",
       "      <th>Subj_71</th>\n",
       "      <th>Ans_1</th>\n",
       "      <th>Ans_2</th>\n",
       "      <th>Ans_3</th>\n",
       "      <th>Ans_4</th>\n",
       "    </tr>\n",
       "  </thead>\n",
       "  <tbody>\n",
       "    <tr>\n",
       "      <th>0</th>\n",
       "      <td>0</td>\n",
       "      <td>NaN</td>\n",
       "      <td>0.443457</td>\n",
       "      <td>1</td>\n",
       "      <td>0</td>\n",
       "      <td>0</td>\n",
       "      <td>1</td>\n",
       "      <td>0</td>\n",
       "      <td>0</td>\n",
       "      <td>0</td>\n",
       "    </tr>\n",
       "    <tr>\n",
       "      <th>1</th>\n",
       "      <td>1</td>\n",
       "      <td>NaN</td>\n",
       "      <td>0.571429</td>\n",
       "      <td>1</td>\n",
       "      <td>0</td>\n",
       "      <td>0</td>\n",
       "      <td>0</td>\n",
       "      <td>0</td>\n",
       "      <td>1</td>\n",
       "      <td>0</td>\n",
       "    </tr>\n",
       "    <tr>\n",
       "      <th>2</th>\n",
       "      <td>2</td>\n",
       "      <td>NaN</td>\n",
       "      <td>0.385214</td>\n",
       "      <td>1</td>\n",
       "      <td>0</td>\n",
       "      <td>0</td>\n",
       "      <td>0</td>\n",
       "      <td>1</td>\n",
       "      <td>0</td>\n",
       "      <td>0</td>\n",
       "    </tr>\n",
       "    <tr>\n",
       "      <th>3</th>\n",
       "      <td>3</td>\n",
       "      <td>NaN</td>\n",
       "      <td>0.808757</td>\n",
       "      <td>1</td>\n",
       "      <td>0</td>\n",
       "      <td>0</td>\n",
       "      <td>0</td>\n",
       "      <td>1</td>\n",
       "      <td>0</td>\n",
       "      <td>0</td>\n",
       "    </tr>\n",
       "    <tr>\n",
       "      <th>4</th>\n",
       "      <td>4</td>\n",
       "      <td>NaN</td>\n",
       "      <td>0.401408</td>\n",
       "      <td>0</td>\n",
       "      <td>0</td>\n",
       "      <td>1</td>\n",
       "      <td>0</td>\n",
       "      <td>0</td>\n",
       "      <td>1</td>\n",
       "      <td>0</td>\n",
       "    </tr>\n",
       "    <tr>\n",
       "      <th>...</th>\n",
       "      <td>...</td>\n",
       "      <td>...</td>\n",
       "      <td>...</td>\n",
       "      <td>...</td>\n",
       "      <td>...</td>\n",
       "      <td>...</td>\n",
       "      <td>...</td>\n",
       "      <td>...</td>\n",
       "      <td>...</td>\n",
       "      <td>...</td>\n",
       "    </tr>\n",
       "    <tr>\n",
       "      <th>943</th>\n",
       "      <td>943</td>\n",
       "      <td>NaN</td>\n",
       "      <td>0.566528</td>\n",
       "      <td>1</td>\n",
       "      <td>0</td>\n",
       "      <td>0</td>\n",
       "      <td>0</td>\n",
       "      <td>0</td>\n",
       "      <td>0</td>\n",
       "      <td>1</td>\n",
       "    </tr>\n",
       "    <tr>\n",
       "      <th>944</th>\n",
       "      <td>944</td>\n",
       "      <td>NaN</td>\n",
       "      <td>0.142857</td>\n",
       "      <td>1</td>\n",
       "      <td>0</td>\n",
       "      <td>0</td>\n",
       "      <td>0</td>\n",
       "      <td>0</td>\n",
       "      <td>0</td>\n",
       "      <td>1</td>\n",
       "    </tr>\n",
       "    <tr>\n",
       "      <th>945</th>\n",
       "      <td>945</td>\n",
       "      <td>NaN</td>\n",
       "      <td>0.422336</td>\n",
       "      <td>1</td>\n",
       "      <td>0</td>\n",
       "      <td>0</td>\n",
       "      <td>1</td>\n",
       "      <td>0</td>\n",
       "      <td>0</td>\n",
       "      <td>0</td>\n",
       "    </tr>\n",
       "    <tr>\n",
       "      <th>946</th>\n",
       "      <td>946</td>\n",
       "      <td>NaN</td>\n",
       "      <td>0.459459</td>\n",
       "      <td>1</td>\n",
       "      <td>0</td>\n",
       "      <td>0</td>\n",
       "      <td>0</td>\n",
       "      <td>1</td>\n",
       "      <td>0</td>\n",
       "      <td>0</td>\n",
       "    </tr>\n",
       "    <tr>\n",
       "      <th>947</th>\n",
       "      <td>947</td>\n",
       "      <td>NaN</td>\n",
       "      <td>0.617124</td>\n",
       "      <td>0</td>\n",
       "      <td>0</td>\n",
       "      <td>1</td>\n",
       "      <td>0</td>\n",
       "      <td>1</td>\n",
       "      <td>0</td>\n",
       "      <td>0</td>\n",
       "    </tr>\n",
       "  </tbody>\n",
       "</table>\n",
       "<p>948 rows × 10 columns</p>\n",
       "</div>"
      ],
      "text/plain": [
       "     QuestionId  ranking   CRRatio  Subj_32  Subj_49  Subj_71  Ans_1  Ans_2  \\\n",
       "0             0      NaN  0.443457        1        0        0      1      0   \n",
       "1             1      NaN  0.571429        1        0        0      0      0   \n",
       "2             2      NaN  0.385214        1        0        0      0      1   \n",
       "3             3      NaN  0.808757        1        0        0      0      1   \n",
       "4             4      NaN  0.401408        0        0        1      0      0   \n",
       "..          ...      ...       ...      ...      ...      ...    ...    ...   \n",
       "943         943      NaN  0.566528        1        0        0      0      0   \n",
       "944         944      NaN  0.142857        1        0        0      0      0   \n",
       "945         945      NaN  0.422336        1        0        0      1      0   \n",
       "946         946      NaN  0.459459        1        0        0      0      1   \n",
       "947         947      NaN  0.617124        0        0        1      0      1   \n",
       "\n",
       "     Ans_3  Ans_4  \n",
       "0        0      0  \n",
       "1        1      0  \n",
       "2        0      0  \n",
       "3        0      0  \n",
       "4        1      0  \n",
       "..     ...    ...  \n",
       "943      0      1  \n",
       "944      0      1  \n",
       "945      0      0  \n",
       "946      0      0  \n",
       "947      0      0  \n",
       "\n",
       "[948 rows x 10 columns]"
      ]
     },
     "execution_count": 17,
     "metadata": {},
     "output_type": "execute_result"
    }
   ],
   "source": [
    "Subjs = pd.get_dummies(mydata['SubId'], prefix='Subj')\n",
    "Anss = pd.get_dummies(mydata['CorrectAnswer'], prefix='Ans')\n",
    "mydata = pd.concat([mydata, Subjs], axis=1)\n",
    "mydata = pd.concat([mydata, Anss], axis=1)\n",
    "mydata.drop(columns=['SubId', 'CorrectAnswer'], inplace=True)\n",
    "mydata"
   ]
  },
  {
   "cell_type": "code",
   "execution_count": 18,
   "id": "7a1ada54-f65b-4ad8-8279-1c6a2d5fd787",
   "metadata": {
    "tags": []
   },
   "outputs": [],
   "source": [
    "eVali, eTest = assign_random_ranking(20182453, mydata, eval_vali)\n",
    "mydata_in_vali, mydata_not_vali = separate_mydata(mydata, eval_vali)"
   ]
  },
  {
   "cell_type": "code",
   "execution_count": 19,
   "id": "0e409c75-073f-4f9e-b570-9008973aac13",
   "metadata": {},
   "outputs": [
    {
     "data": {
      "text/html": [
       "<table class=\"simpletable\">\n",
       "<caption>OLS Regression Results</caption>\n",
       "<tr>\n",
       "  <th>Dep. Variable:</th>         <td>ranking</td>     <th>  R-squared:         </th> <td>   0.095</td>\n",
       "</tr>\n",
       "<tr>\n",
       "  <th>Model:</th>                   <td>OLS</td>       <th>  Adj. R-squared:    </th> <td>  -0.034</td>\n",
       "</tr>\n",
       "<tr>\n",
       "  <th>Method:</th>             <td>Least Squares</td>  <th>  F-statistic:       </th> <td>  0.7372</td>\n",
       "</tr>\n",
       "<tr>\n",
       "  <th>Date:</th>             <td>Sun, 18 Jun 2023</td> <th>  Prob (F-statistic):</th>  <td> 0.623</td> \n",
       "</tr>\n",
       "<tr>\n",
       "  <th>Time:</th>                 <td>23:26:56</td>     <th>  Log-Likelihood:    </th> <td> -7.3309</td>\n",
       "</tr>\n",
       "<tr>\n",
       "  <th>No. Observations:</th>      <td>    49</td>      <th>  AIC:               </th> <td>   28.66</td>\n",
       "</tr>\n",
       "<tr>\n",
       "  <th>Df Residuals:</th>          <td>    42</td>      <th>  BIC:               </th> <td>   41.90</td>\n",
       "</tr>\n",
       "<tr>\n",
       "  <th>Df Model:</th>              <td>     6</td>      <th>                     </th>     <td> </td>   \n",
       "</tr>\n",
       "<tr>\n",
       "  <th>Covariance Type:</th>      <td>nonrobust</td>    <th>                     </th>     <td> </td>   \n",
       "</tr>\n",
       "</table>\n",
       "<table class=\"simpletable\">\n",
       "<tr>\n",
       "      <td></td>         <th>coef</th>     <th>std err</th>      <th>t</th>      <th>P>|t|</th>  <th>[0.025</th>    <th>0.975]</th>  \n",
       "</tr>\n",
       "<tr>\n",
       "  <th>Intercept</th> <td>    0.4050</td> <td>    0.105</td> <td>    3.869</td> <td> 0.000</td> <td>    0.194</td> <td>    0.616</td>\n",
       "</tr>\n",
       "<tr>\n",
       "  <th>Subj_32</th>   <td>    0.1784</td> <td>    0.075</td> <td>    2.389</td> <td> 0.021</td> <td>    0.028</td> <td>    0.329</td>\n",
       "</tr>\n",
       "<tr>\n",
       "  <th>Subj_49</th>   <td>    0.1363</td> <td>    0.120</td> <td>    1.138</td> <td> 0.262</td> <td>   -0.105</td> <td>    0.378</td>\n",
       "</tr>\n",
       "<tr>\n",
       "  <th>Subj_71</th>   <td>    0.0904</td> <td>    0.075</td> <td>    1.201</td> <td> 0.236</td> <td>   -0.061</td> <td>    0.242</td>\n",
       "</tr>\n",
       "<tr>\n",
       "  <th>Ans_1</th>     <td>    0.0962</td> <td>    0.081</td> <td>    1.193</td> <td> 0.240</td> <td>   -0.067</td> <td>    0.259</td>\n",
       "</tr>\n",
       "<tr>\n",
       "  <th>Ans_2</th>     <td>    0.0362</td> <td>    0.077</td> <td>    0.469</td> <td> 0.641</td> <td>   -0.119</td> <td>    0.192</td>\n",
       "</tr>\n",
       "<tr>\n",
       "  <th>Ans_3</th>     <td>    0.1108</td> <td>    0.083</td> <td>    1.336</td> <td> 0.189</td> <td>   -0.057</td> <td>    0.278</td>\n",
       "</tr>\n",
       "<tr>\n",
       "  <th>Ans_4</th>     <td>    0.1619</td> <td>    0.099</td> <td>    1.638</td> <td> 0.109</td> <td>   -0.038</td> <td>    0.361</td>\n",
       "</tr>\n",
       "<tr>\n",
       "  <th>CRRatio</th>   <td>   -0.4260</td> <td>    0.310</td> <td>   -1.373</td> <td> 0.177</td> <td>   -1.052</td> <td>    0.200</td>\n",
       "</tr>\n",
       "</table>\n",
       "<table class=\"simpletable\">\n",
       "<tr>\n",
       "  <th>Omnibus:</th>       <td> 4.785</td> <th>  Durbin-Watson:     </th> <td>   1.727</td>\n",
       "</tr>\n",
       "<tr>\n",
       "  <th>Prob(Omnibus):</th> <td> 0.091</td> <th>  Jarque-Bera (JB):  </th> <td>   2.075</td>\n",
       "</tr>\n",
       "<tr>\n",
       "  <th>Skew:</th>          <td> 0.132</td> <th>  Prob(JB):          </th> <td>   0.354</td>\n",
       "</tr>\n",
       "<tr>\n",
       "  <th>Kurtosis:</th>      <td> 2.027</td> <th>  Cond. No.          </th> <td>2.58e+16</td>\n",
       "</tr>\n",
       "</table><br/><br/>Notes:<br/>[1] Standard Errors assume that the covariance matrix of the errors is correctly specified.<br/>[2] The smallest eigenvalue is 1.45e-31. This might indicate that there are<br/>strong multicollinearity problems or that the design matrix is singular."
      ],
      "text/plain": [
       "<class 'statsmodels.iolib.summary.Summary'>\n",
       "\"\"\"\n",
       "                            OLS Regression Results                            \n",
       "==============================================================================\n",
       "Dep. Variable:                ranking   R-squared:                       0.095\n",
       "Model:                            OLS   Adj. R-squared:                 -0.034\n",
       "Method:                 Least Squares   F-statistic:                    0.7372\n",
       "Date:                Sun, 18 Jun 2023   Prob (F-statistic):              0.623\n",
       "Time:                        23:26:56   Log-Likelihood:                -7.3309\n",
       "No. Observations:                  49   AIC:                             28.66\n",
       "Df Residuals:                      42   BIC:                             41.90\n",
       "Df Model:                           6                                         \n",
       "Covariance Type:            nonrobust                                         \n",
       "==============================================================================\n",
       "                 coef    std err          t      P>|t|      [0.025      0.975]\n",
       "------------------------------------------------------------------------------\n",
       "Intercept      0.4050      0.105      3.869      0.000       0.194       0.616\n",
       "Subj_32        0.1784      0.075      2.389      0.021       0.028       0.329\n",
       "Subj_49        0.1363      0.120      1.138      0.262      -0.105       0.378\n",
       "Subj_71        0.0904      0.075      1.201      0.236      -0.061       0.242\n",
       "Ans_1          0.0962      0.081      1.193      0.240      -0.067       0.259\n",
       "Ans_2          0.0362      0.077      0.469      0.641      -0.119       0.192\n",
       "Ans_3          0.1108      0.083      1.336      0.189      -0.057       0.278\n",
       "Ans_4          0.1619      0.099      1.638      0.109      -0.038       0.361\n",
       "CRRatio       -0.4260      0.310     -1.373      0.177      -1.052       0.200\n",
       "==============================================================================\n",
       "Omnibus:                        4.785   Durbin-Watson:                   1.727\n",
       "Prob(Omnibus):                  0.091   Jarque-Bera (JB):                2.075\n",
       "Skew:                           0.132   Prob(JB):                        0.354\n",
       "Kurtosis:                       2.027   Cond. No.                     2.58e+16\n",
       "==============================================================================\n",
       "\n",
       "Notes:\n",
       "[1] Standard Errors assume that the covariance matrix of the errors is correctly specified.\n",
       "[2] The smallest eigenvalue is 1.45e-31. This might indicate that there are\n",
       "strong multicollinearity problems or that the design matrix is singular.\n",
       "\"\"\""
      ]
     },
     "execution_count": 19,
     "metadata": {},
     "output_type": "execute_result"
    }
   ],
   "source": [
    "# fit model\n",
    "lm = smf.ols(formula='ranking ~ Subj_32+Subj_49+Subj_71+Ans_1+Ans_2+Ans_3+Ans_4+CRRatio', data=mydata_in_vali)\n",
    "lm_fit = lm.fit()\n",
    "lm_fit.summary()"
   ]
  },
  {
   "cell_type": "code",
   "execution_count": 20,
   "id": "ac30ec08-8717-4539-b49e-2f3e0c03225f",
   "metadata": {},
   "outputs": [
    {
     "data": {
      "text/html": [
       "<div>\n",
       "<style scoped>\n",
       "    .dataframe tbody tr th:only-of-type {\n",
       "        vertical-align: middle;\n",
       "    }\n",
       "\n",
       "    .dataframe tbody tr th {\n",
       "        vertical-align: top;\n",
       "    }\n",
       "\n",
       "    .dataframe thead th {\n",
       "        text-align: right;\n",
       "    }\n",
       "</style>\n",
       "<table border=\"1\" class=\"dataframe\">\n",
       "  <thead>\n",
       "    <tr style=\"text-align: right;\">\n",
       "      <th></th>\n",
       "      <th>QuestionId</th>\n",
       "      <th>ranking</th>\n",
       "      <th>CRRatio</th>\n",
       "      <th>Subj_32</th>\n",
       "      <th>Subj_49</th>\n",
       "      <th>Subj_71</th>\n",
       "      <th>Ans_1</th>\n",
       "      <th>Ans_2</th>\n",
       "      <th>Ans_3</th>\n",
       "      <th>Ans_4</th>\n",
       "    </tr>\n",
       "  </thead>\n",
       "  <tbody>\n",
       "    <tr>\n",
       "      <th>0</th>\n",
       "      <td>0.0</td>\n",
       "      <td>0.490701</td>\n",
       "      <td>0.443457</td>\n",
       "      <td>1.0</td>\n",
       "      <td>0.0</td>\n",
       "      <td>0.0</td>\n",
       "      <td>1.0</td>\n",
       "      <td>0.0</td>\n",
       "      <td>0.0</td>\n",
       "      <td>0.0</td>\n",
       "    </tr>\n",
       "    <tr>\n",
       "      <th>1</th>\n",
       "      <td>1.0</td>\n",
       "      <td>0.450811</td>\n",
       "      <td>0.571429</td>\n",
       "      <td>1.0</td>\n",
       "      <td>0.0</td>\n",
       "      <td>0.0</td>\n",
       "      <td>0.0</td>\n",
       "      <td>0.0</td>\n",
       "      <td>1.0</td>\n",
       "      <td>0.0</td>\n",
       "    </tr>\n",
       "    <tr>\n",
       "      <th>2</th>\n",
       "      <td>2.0</td>\n",
       "      <td>0.455494</td>\n",
       "      <td>0.385214</td>\n",
       "      <td>1.0</td>\n",
       "      <td>0.0</td>\n",
       "      <td>0.0</td>\n",
       "      <td>0.0</td>\n",
       "      <td>1.0</td>\n",
       "      <td>0.0</td>\n",
       "      <td>0.0</td>\n",
       "    </tr>\n",
       "    <tr>\n",
       "      <th>3</th>\n",
       "      <td>3.0</td>\n",
       "      <td>0.275047</td>\n",
       "      <td>0.808757</td>\n",
       "      <td>1.0</td>\n",
       "      <td>0.0</td>\n",
       "      <td>0.0</td>\n",
       "      <td>0.0</td>\n",
       "      <td>1.0</td>\n",
       "      <td>0.0</td>\n",
       "      <td>0.0</td>\n",
       "    </tr>\n",
       "    <tr>\n",
       "      <th>4</th>\n",
       "      <td>4.0</td>\n",
       "      <td>0.046299</td>\n",
       "      <td>0.401408</td>\n",
       "      <td>0.0</td>\n",
       "      <td>0.0</td>\n",
       "      <td>1.0</td>\n",
       "      <td>0.0</td>\n",
       "      <td>0.0</td>\n",
       "      <td>1.0</td>\n",
       "      <td>0.0</td>\n",
       "    </tr>\n",
       "    <tr>\n",
       "      <th>...</th>\n",
       "      <td>...</td>\n",
       "      <td>...</td>\n",
       "      <td>...</td>\n",
       "      <td>...</td>\n",
       "      <td>...</td>\n",
       "      <td>...</td>\n",
       "      <td>...</td>\n",
       "      <td>...</td>\n",
       "      <td>...</td>\n",
       "      <td>...</td>\n",
       "    </tr>\n",
       "    <tr>\n",
       "      <th>943</th>\n",
       "      <td>943.0</td>\n",
       "      <td>0.503989</td>\n",
       "      <td>0.566528</td>\n",
       "      <td>1.0</td>\n",
       "      <td>0.0</td>\n",
       "      <td>0.0</td>\n",
       "      <td>0.0</td>\n",
       "      <td>0.0</td>\n",
       "      <td>0.0</td>\n",
       "      <td>1.0</td>\n",
       "    </tr>\n",
       "    <tr>\n",
       "      <th>944</th>\n",
       "      <td>944.0</td>\n",
       "      <td>0.684491</td>\n",
       "      <td>0.142857</td>\n",
       "      <td>1.0</td>\n",
       "      <td>0.0</td>\n",
       "      <td>0.0</td>\n",
       "      <td>0.0</td>\n",
       "      <td>0.0</td>\n",
       "      <td>0.0</td>\n",
       "      <td>1.0</td>\n",
       "    </tr>\n",
       "    <tr>\n",
       "      <th>945</th>\n",
       "      <td>945.0</td>\n",
       "      <td>0.499699</td>\n",
       "      <td>0.422336</td>\n",
       "      <td>1.0</td>\n",
       "      <td>0.0</td>\n",
       "      <td>0.0</td>\n",
       "      <td>1.0</td>\n",
       "      <td>0.0</td>\n",
       "      <td>0.0</td>\n",
       "      <td>0.0</td>\n",
       "    </tr>\n",
       "    <tr>\n",
       "      <th>946</th>\n",
       "      <td>946.0</td>\n",
       "      <td>0.423863</td>\n",
       "      <td>0.459459</td>\n",
       "      <td>1.0</td>\n",
       "      <td>0.0</td>\n",
       "      <td>0.0</td>\n",
       "      <td>0.0</td>\n",
       "      <td>1.0</td>\n",
       "      <td>0.0</td>\n",
       "      <td>0.0</td>\n",
       "    </tr>\n",
       "    <tr>\n",
       "      <th>947</th>\n",
       "      <td>947.0</td>\n",
       "      <td>0.268648</td>\n",
       "      <td>0.617124</td>\n",
       "      <td>0.0</td>\n",
       "      <td>0.0</td>\n",
       "      <td>1.0</td>\n",
       "      <td>0.0</td>\n",
       "      <td>1.0</td>\n",
       "      <td>0.0</td>\n",
       "      <td>0.0</td>\n",
       "    </tr>\n",
       "  </tbody>\n",
       "</table>\n",
       "<p>948 rows × 10 columns</p>\n",
       "</div>"
      ],
      "text/plain": [
       "     QuestionId   ranking   CRRatio  Subj_32  Subj_49  Subj_71  Ans_1  Ans_2  \\\n",
       "0           0.0  0.490701  0.443457      1.0      0.0      0.0    1.0    0.0   \n",
       "1           1.0  0.450811  0.571429      1.0      0.0      0.0    0.0    0.0   \n",
       "2           2.0  0.455494  0.385214      1.0      0.0      0.0    0.0    1.0   \n",
       "3           3.0  0.275047  0.808757      1.0      0.0      0.0    0.0    1.0   \n",
       "4           4.0  0.046299  0.401408      0.0      0.0      1.0    0.0    0.0   \n",
       "..          ...       ...       ...      ...      ...      ...    ...    ...   \n",
       "943       943.0  0.503989  0.566528      1.0      0.0      0.0    0.0    0.0   \n",
       "944       944.0  0.684491  0.142857      1.0      0.0      0.0    0.0    0.0   \n",
       "945       945.0  0.499699  0.422336      1.0      0.0      0.0    1.0    0.0   \n",
       "946       946.0  0.423863  0.459459      1.0      0.0      0.0    0.0    1.0   \n",
       "947       947.0  0.268648  0.617124      0.0      0.0      1.0    0.0    1.0   \n",
       "\n",
       "     Ans_3  Ans_4  \n",
       "0      0.0    0.0  \n",
       "1      1.0    0.0  \n",
       "2      0.0    0.0  \n",
       "3      0.0    0.0  \n",
       "4      1.0    0.0  \n",
       "..     ...    ...  \n",
       "943    0.0    1.0  \n",
       "944    0.0    1.0  \n",
       "945    0.0    0.0  \n",
       "946    0.0    0.0  \n",
       "947    0.0    0.0  \n",
       "\n",
       "[948 rows x 10 columns]"
      ]
     },
     "execution_count": 20,
     "metadata": {},
     "output_type": "execute_result"
    }
   ],
   "source": [
    "# predict\n",
    "mydata_not_vali['ranking'] = lm_fit.predict(mydata_not_vali)\n",
    "mydata.update(mydata_not_vali)\n",
    "mydata"
   ]
  },
  {
   "cell_type": "code",
   "execution_count": 21,
   "id": "6ac7fe30-04fc-496c-814a-70e1d9f252d7",
   "metadata": {},
   "outputs": [
    {
     "name": "stdout",
     "output_type": "stream",
     "text": [
      "Estimation\n",
      "[1 1 2 2 2 1 2 2 1 1 1 2 1 1 1 2 1 1 1 1 1 2 2 1 1]\n",
      "True\n",
      "[2 1 1 2 1 1 1 1 1 2 2 1 2 1 1 1 2 2 2 1 2 1 2 1 2]\n"
     ]
    },
    {
     "data": {
      "text/plain": [
       "0.36"
      ]
     },
     "execution_count": 21,
     "metadata": {},
     "output_type": "execute_result"
    }
   ],
   "source": [
    "# evaluate\n",
    "estimateV = evaluate(eval_test, mydata)\n",
    "trueV = eTest['Final'].tolist()\n",
    "\n",
    "ev = np.array(estimateV)\n",
    "tv = np.array(trueV)\n",
    "print('Estimation', ev,'True', tv, sep='\\n')\n",
    "\n",
    "samev = (ev == tv)\n",
    "samev.sum() / samev.size"
   ]
  },
  {
   "cell_type": "markdown",
   "id": "5b5cddcf-165a-4a0d-a972-26eb3ca7d9f0",
   "metadata": {},
   "source": [
    "## 3. Different Initialization"
   ]
  },
  {
   "cell_type": "code",
   "execution_count": 22,
   "id": "e7026dc2-09a7-485e-8ea8-b6db69f27143",
   "metadata": {},
   "outputs": [],
   "source": [
    "def try_evaluate(rand_seed, do_summary=False, do_accuracy=False):\n",
    "    # Init mydata\n",
    "    mydata = preprocess_mydata(data, question_metadata)\n",
    "\n",
    "    Subjs = pd.get_dummies(mydata['SubId'], prefix='Subj')\n",
    "    Anss = pd.get_dummies(mydata['CorrectAnswer'], prefix='Ans')\n",
    "    mydata = pd.concat([mydata, Subjs], axis=1)\n",
    "    mydata = pd.concat([mydata, Anss], axis=1)\n",
    "    mydata.drop(columns=['SubId', 'CorrectAnswer'], inplace=True)\n",
    "\n",
    "    eVali, eTest = assign_random_ranking(rand_seed, mydata, eval_vali)\n",
    "    mydata_in_vali, mydata_not_vali = separate_mydata(mydata, eval_vali)\n",
    "\n",
    "    # fit model\n",
    "    lm = smf.ols(formula='ranking ~ Subj_32+Subj_49+Subj_71+Ans_1+Ans_2+Ans_3+Ans_4+CRRatio', data=mydata_in_vali)\n",
    "    lm_fit = lm.fit()\n",
    "    if do_summary: display(lm_fit.summary())\n",
    "\n",
    "    # predict\n",
    "    mydata_not_vali['ranking'] = lm_fit.predict(mydata_not_vali)\n",
    "    mydata.update(mydata_not_vali)\n",
    "\n",
    "    # evaluate\n",
    "    estimateV = evaluate(eval_test, mydata)\n",
    "    trueV = eTest['Final'].tolist()\n",
    "\n",
    "    ev = np.array(estimateV)\n",
    "    tv = np.array(trueV)\n",
    "    if do_accuracy: print('Estimation', ev,'True', tv, sep='\\n')\n",
    "\n",
    "    samev = (ev == tv)\n",
    "    if do_accuracy: print(samev.sum() / samev.size)\n",
    "    \n",
    "    local_accu = (samev.sum() / samev.size) # calculated accuracy\n",
    "    \n",
    "    return local_accu"
   ]
  },
  {
   "cell_type": "code",
   "execution_count": 23,
   "id": "278b79ab-9ee7-4f71-abb4-029ab3b6119e",
   "metadata": {},
   "outputs": [
    {
     "data": {
      "text/plain": [
       "(array([ 7., 14., 34., 46., 53., 63., 35., 25., 14.,  9.]),\n",
       " array([0.32, 0.36, 0.4 , 0.44, 0.48, 0.52, 0.56, 0.6 , 0.64, 0.68, 0.72]),\n",
       " <BarContainer object of 10 artists>)"
      ]
     },
     "execution_count": 23,
     "metadata": {},
     "output_type": "execute_result"
    },
    {
     "data": {
      "image/png": "[encoded data removed]",
      "text/plain": [
       "<Figure size 432x288 with 1 Axes>"
      ]
     },
     "metadata": {
      "needs_background": "light"
     },
     "output_type": "display_data"
    }
   ],
   "source": [
    "evals = list()\n",
    "for i in range(300):\n",
    "    evals.append(try_evaluate(i))\n",
    "plt.hist(evals)"
   ]
  },
  {
   "cell_type": "code",
   "execution_count": 24,
   "id": "13997c4d-de97-4678-bc70-ec11ae64b3da",
   "metadata": {},
   "outputs": [
    {
     "name": "stdout",
     "output_type": "stream",
     "text": [
      "Mean:  0.4968000000000001\n",
      "Var:  0.006693760000000001\n",
      "Std:  0.08181540197297818\n"
     ]
    }
   ],
   "source": [
    "print(\"Mean: \", np.mean(evals))\n",
    "print(\"Var: \", np.var(evals))\n",
    "print(\"Std: \", np.std(evals))"
   ]
  },
  {
   "cell_type": "markdown",
   "id": "b9b76839-a3f2-4ba5-80a5-dbcd601c29c4",
   "metadata": {},
   "source": [
    "### For Result"
   ]
  },
  {
   "cell_type": "code",
   "execution_count": 25,
   "id": "35aee19e-cc08-4336-b60c-9448c06243d8",
   "metadata": {},
   "outputs": [
    {
     "data": {
      "text/html": [
       "<table class=\"simpletable\">\n",
       "<caption>OLS Regression Results</caption>\n",
       "<tr>\n",
       "  <th>Dep. Variable:</th>         <td>ranking</td>     <th>  R-squared:         </th> <td>   0.174</td>\n",
       "</tr>\n",
       "<tr>\n",
       "  <th>Model:</th>                   <td>OLS</td>       <th>  Adj. R-squared:    </th> <td>   0.056</td>\n",
       "</tr>\n",
       "<tr>\n",
       "  <th>Method:</th>             <td>Least Squares</td>  <th>  F-statistic:       </th> <td>   1.472</td>\n",
       "</tr>\n",
       "<tr>\n",
       "  <th>Date:</th>             <td>Sun, 18 Jun 2023</td> <th>  Prob (F-statistic):</th>  <td> 0.211</td> \n",
       "</tr>\n",
       "<tr>\n",
       "  <th>Time:</th>                 <td>23:27:58</td>     <th>  Log-Likelihood:    </th> <td> 0.56938</td>\n",
       "</tr>\n",
       "<tr>\n",
       "  <th>No. Observations:</th>      <td>    49</td>      <th>  AIC:               </th> <td>   12.86</td>\n",
       "</tr>\n",
       "<tr>\n",
       "  <th>Df Residuals:</th>          <td>    42</td>      <th>  BIC:               </th> <td>   26.10</td>\n",
       "</tr>\n",
       "<tr>\n",
       "  <th>Df Model:</th>              <td>     6</td>      <th>                     </th>     <td> </td>   \n",
       "</tr>\n",
       "<tr>\n",
       "  <th>Covariance Type:</th>      <td>nonrobust</td>    <th>                     </th>     <td> </td>   \n",
       "</tr>\n",
       "</table>\n",
       "<table class=\"simpletable\">\n",
       "<tr>\n",
       "      <td></td>         <th>coef</th>     <th>std err</th>      <th>t</th>      <th>P>|t|</th>  <th>[0.025</th>    <th>0.975]</th>  \n",
       "</tr>\n",
       "<tr>\n",
       "  <th>Intercept</th> <td>    0.3361</td> <td>    0.089</td> <td>    3.772</td> <td> 0.001</td> <td>    0.156</td> <td>    0.516</td>\n",
       "</tr>\n",
       "<tr>\n",
       "  <th>Subj_32</th>   <td>    0.0062</td> <td>    0.064</td> <td>    0.098</td> <td> 0.923</td> <td>   -0.122</td> <td>    0.134</td>\n",
       "</tr>\n",
       "<tr>\n",
       "  <th>Subj_49</th>   <td>    0.2334</td> <td>    0.102</td> <td>    2.289</td> <td> 0.027</td> <td>    0.028</td> <td>    0.439</td>\n",
       "</tr>\n",
       "<tr>\n",
       "  <th>Subj_71</th>   <td>    0.0965</td> <td>    0.064</td> <td>    1.507</td> <td> 0.139</td> <td>   -0.033</td> <td>    0.226</td>\n",
       "</tr>\n",
       "<tr>\n",
       "  <th>Ans_1</th>     <td>    0.1504</td> <td>    0.069</td> <td>    2.192</td> <td> 0.034</td> <td>    0.012</td> <td>    0.289</td>\n",
       "</tr>\n",
       "<tr>\n",
       "  <th>Ans_2</th>     <td>    0.0094</td> <td>    0.066</td> <td>    0.144</td> <td> 0.886</td> <td>   -0.123</td> <td>    0.142</td>\n",
       "</tr>\n",
       "<tr>\n",
       "  <th>Ans_3</th>     <td>   -0.0286</td> <td>    0.071</td> <td>   -0.405</td> <td> 0.687</td> <td>   -0.171</td> <td>    0.114</td>\n",
       "</tr>\n",
       "<tr>\n",
       "  <th>Ans_4</th>     <td>    0.2048</td> <td>    0.084</td> <td>    2.435</td> <td> 0.019</td> <td>    0.035</td> <td>    0.375</td>\n",
       "</tr>\n",
       "<tr>\n",
       "  <th>CRRatio</th>   <td>    0.1985</td> <td>    0.264</td> <td>    0.752</td> <td> 0.456</td> <td>   -0.334</td> <td>    0.731</td>\n",
       "</tr>\n",
       "</table>\n",
       "<table class=\"simpletable\">\n",
       "<tr>\n",
       "  <th>Omnibus:</th>       <td> 0.193</td> <th>  Durbin-Watson:     </th> <td>   2.330</td>\n",
       "</tr>\n",
       "<tr>\n",
       "  <th>Prob(Omnibus):</th> <td> 0.908</td> <th>  Jarque-Bera (JB):  </th> <td>   0.295</td>\n",
       "</tr>\n",
       "<tr>\n",
       "  <th>Skew:</th>          <td>-0.137</td> <th>  Prob(JB):          </th> <td>   0.863</td>\n",
       "</tr>\n",
       "<tr>\n",
       "  <th>Kurtosis:</th>      <td> 2.737</td> <th>  Cond. No.          </th> <td>2.58e+16</td>\n",
       "</tr>\n",
       "</table><br/><br/>Notes:<br/>[1] Standard Errors assume that the covariance matrix of the errors is correctly specified.<br/>[2] The smallest eigenvalue is 1.45e-31. This might indicate that there are<br/>strong multicollinearity problems or that the design matrix is singular."
      ],
      "text/plain": [
       "<class 'statsmodels.iolib.summary.Summary'>\n",
       "\"\"\"\n",
       "                            OLS Regression Results                            \n",
       "==============================================================================\n",
       "Dep. Variable:                ranking   R-squared:                       0.174\n",
       "Model:                            OLS   Adj. R-squared:                  0.056\n",
       "Method:                 Least Squares   F-statistic:                     1.472\n",
       "Date:                Sun, 18 Jun 2023   Prob (F-statistic):              0.211\n",
       "Time:                        23:27:58   Log-Likelihood:                0.56938\n",
       "No. Observations:                  49   AIC:                             12.86\n",
       "Df Residuals:                      42   BIC:                             26.10\n",
       "Df Model:                           6                                         \n",
       "Covariance Type:            nonrobust                                         \n",
       "==============================================================================\n",
       "                 coef    std err          t      P>|t|      [0.025      0.975]\n",
       "------------------------------------------------------------------------------\n",
       "Intercept      0.3361      0.089      3.772      0.001       0.156       0.516\n",
       "Subj_32        0.0062      0.064      0.098      0.923      -0.122       0.134\n",
       "Subj_49        0.2334      0.102      2.289      0.027       0.028       0.439\n",
       "Subj_71        0.0965      0.064      1.507      0.139      -0.033       0.226\n",
       "Ans_1          0.1504      0.069      2.192      0.034       0.012       0.289\n",
       "Ans_2          0.0094      0.066      0.144      0.886      -0.123       0.142\n",
       "Ans_3         -0.0286      0.071     -0.405      0.687      -0.171       0.114\n",
       "Ans_4          0.2048      0.084      2.435      0.019       0.035       0.375\n",
       "CRRatio        0.1985      0.264      0.752      0.456      -0.334       0.731\n",
       "==============================================================================\n",
       "Omnibus:                        0.193   Durbin-Watson:                   2.330\n",
       "Prob(Omnibus):                  0.908   Jarque-Bera (JB):                0.295\n",
       "Skew:                          -0.137   Prob(JB):                        0.863\n",
       "Kurtosis:                       2.737   Cond. No.                     2.58e+16\n",
       "==============================================================================\n",
       "\n",
       "Notes:\n",
       "[1] Standard Errors assume that the covariance matrix of the errors is correctly specified.\n",
       "[2] The smallest eigenvalue is 1.45e-31. This might indicate that there are\n",
       "strong multicollinearity problems or that the design matrix is singular.\n",
       "\"\"\""
      ]
     },
     "metadata": {},
     "output_type": "display_data"
    },
    {
     "name": "stdout",
     "output_type": "stream",
     "text": [
      "Estimation\n",
      "[1 2 1 1 1 2 2 1 2 1 1 2 2 1 2 1 2 2 1 1 2 1 2 2 2]\n",
      "True\n",
      "[2 1 1 2 1 1 1 1 1 2 2 1 2 1 1 1 2 2 2 1 2 1 2 1 2]\n",
      "0.52\n"
     ]
    },
    {
     "data": {
      "text/plain": [
       "0.52"
      ]
     },
     "execution_count": 25,
     "metadata": {},
     "output_type": "execute_result"
    }
   ],
   "source": [
    "try_evaluate(20230618, True, True)"
   ]
  },
  {
   "cell_type": "code",
   "execution_count": 26,
   "id": "4ecc39ec-dd36-40a4-8947-dcd35b8a96c6",
   "metadata": {},
   "outputs": [],
   "source": [
    "# export result\n",
    "mydata[['QuestionId', 'ranking']].to_csv('submission/Result02.csv', index=False)"
   ]
  },
  {
   "cell_type": "code",
   "execution_count": 27,
   "id": "9dce3f02-f7ff-4ae0-b8d1-9be642fa8e91",
   "metadata": {},
   "outputs": [
    {
     "data": {
      "text/plain": [
       "<seaborn.axisgrid.PairGrid at 0x7f4cfebf29a0>"
      ]
     },
     "execution_count": 27,
     "metadata": {},
     "output_type": "execute_result"
    },
    {
     "data": {
      "image/png": "[encoded data removed]",
      "text/plain": [
       "<Figure size 360x360 with 6 Axes>"
      ]
     },
     "metadata": {
      "needs_background": "light"
     },
     "output_type": "display_data"
    }
   ],
   "source": [
    "sns.pairplot(mydata[['ranking', 'CRRatio']])"
   ]
  }
 ],
 "metadata": {
  "kernelspec": {
   "display_name": "Python 3 (ipykernel)",
   "language": "python",
   "name": "python3"
  },
  "language_info": {
   "codemirror_mode": {
    "name": "ipython",
    "version": 3
   },
   "file_extension": ".py",
   "mimetype": "text/x-python",
   "name": "python",
   "nbconvert_exporter": "python",
   "pygments_lexer": "ipython3",
   "version": "3.9.7"
  }
 },
 "nbformat": 4,
 "nbformat_minor": 5
}
